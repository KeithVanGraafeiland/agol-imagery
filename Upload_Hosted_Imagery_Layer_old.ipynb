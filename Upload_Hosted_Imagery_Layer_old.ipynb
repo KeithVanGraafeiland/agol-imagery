{
 "cells": [
  {
   "attachments": {},
   "cell_type": "markdown",
   "id": "55293360",
   "metadata": {},
   "source": [
    "## Utilize API to create \"Hosted Tiled Imagery Layer\" from local CRF"
   ]
  },
  {
   "cell_type": "code",
   "execution_count": 2,
   "id": "40012762",
   "metadata": {},
   "outputs": [],
   "source": [
    "import arcgis\n",
    "from arcgis.raster import *\n",
    "from arcgis.raster.analytics import *\n",
    "from arcgis.gis import GIS\n",
    "\n",
    "arcgis.env.verbose=True"
   ]
  },
  {
   "cell_type": "code",
   "execution_count": 3,
   "id": "89c3ad98",
   "metadata": {},
   "outputs": [],
   "source": [
    "# Prompt user to provide username and password\n",
    "import getpass\n",
    "username = getpass.getpass(prompt='Username: ')\n",
    "password = getpass.getpass(prompt='Password: ')"
   ]
  },
  {
   "cell_type": "code",
   "execution_count": null,
   "id": "03f4df91",
   "metadata": {},
   "outputs": [],
   "source": [
    "# Connect to ArcGIS Online\n",
    "gis = GIS(\"https://esri.maps.arcgis.com/\", username, password, verify_cert=False)\n",
    "gis"
   ]
  },
  {
   "cell_type": "code",
   "execution_count": null,
   "id": "85b9d302",
   "metadata": {},
   "outputs": [],
   "source": [
    "#Creating a tile imagery layer from CRF\n",
    "## Aparently there is an issue with the copy_raster function, it is not working as expected\n",
    "## it attempts to build a mosaic dataset first instead of a just publishing a tile imagery layer from the CRF\n",
    "NAME = 'gfw_2019_v2'\n",
    "ImgFolder = r\"\\\\KVANGRAAF\\e\\gis_lib\\global_fishing_watch\\v4\\JieTest\\global_fish_watch_annual_fleet_sum_2019.crf\"\n",
    "copy_raster(input_raster=ImgFolder,output_name=NAME,raster_type_name=\"Raster Dataset\",tiles_only=True,gis=gis)"
   ]
  },
  {
   "cell_type": "markdown",
   "id": "91c5a91d",
   "metadata": {},
   "source": [
    "##### DOC here: https://developers.arcgis.com/python/latest/api-reference/arcgis.raster.analytics.html#copy_raster"
   ]
  },
  {
   "cell_type": "code",
   "execution_count": null,
   "id": "dc583c4a",
   "metadata": {},
   "outputs": [],
   "source": [
    "# Usage Example 1: This example creates a tiled imagery layer in ArcGIS Online. \n",
    "# (To create dynamic imagery layer set the tiles_only keyword argument to False)\n",
    "\n",
    "copy_raster_op = copy_raster(input_raster=r\"C:\\data\\input_raster.tif\",\n",
    "                             output_name=\"output_name\",\n",
    "                             raster_type_name=\"Raster Dataset\",\n",
    "                             gis=gis,\n",
    "                             tiles_only=True)"
   ]
  }
 ],
 "metadata": {
  "kernelspec": {
   "display_name": "Python 3",
   "language": "python",
   "name": "python3"
  },
  "language_info": {
   "codemirror_mode": {
    "name": "ipython",
    "version": 3
   },
   "file_extension": ".py",
   "mimetype": "text/x-python",
   "name": "python",
   "nbconvert_exporter": "python",
   "pygments_lexer": "ipython3",
   "version": "3.11.8"
  }
 },
 "nbformat": 4,
 "nbformat_minor": 5
}
