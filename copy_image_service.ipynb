{
 "cells": [
  {
   "cell_type": "code",
   "execution_count": null,
   "metadata": {},
   "outputs": [],
   "source": [
    "import os\n",
    "import arcpy\n",
    "import getpass\n",
    "import arcgis\n",
    "from arcgis.raster import *\n",
    "from arcgis.raster.analytics import *\n",
    "from arcgis.gis import GIS\n",
    "\n",
    "arcgis.env.verbose=True\n",
    "arcgis.env.overwrite = True\n",
    "\n",
    "import urllib3\n",
    "urllib3.disable_warnings() "
   ]
  },
  {
   "cell_type": "code",
   "execution_count": null,
   "metadata": {},
   "outputs": [],
   "source": [
    " from credentials import username, password, org_url"
   ]
  },
  {
   "cell_type": "code",
   "execution_count": null,
   "metadata": {},
   "outputs": [],
   "source": [
    "gis = GIS(org_url, username, password, verify_cert=True)\n",
    "gis\n",
    "print(\"ArcGIS Online connection established... \\nCONNECTION DETAILS:\")\n",
    "print(\"Username: \" + gis.properties.user.username)\n",
    "print(\"Org name: \" + gis.properties.name)\n",
    "print(\"Portal Hostname: \" + gis.properties.portalHostname)\n",
    "print(\"Portal Mode: \" + gis.properties.portalMode)\n",
    "# print(\"Connected to: \" + gis.properties.customBaseUrl)"
   ]
  },
  {
   "cell_type": "code",
   "execution_count": null,
   "metadata": {},
   "outputs": [],
   "source": [
    "## Item to Copy\n",
    "source_ID = '5faa0c9437864093ba8acfc1813b77f6'\n",
    "source_item = gis.content.get(source_ID)\n",
    "source_item"
   ]
  },
  {
   "cell_type": "code",
   "execution_count": null,
   "metadata": {},
   "outputs": [],
   "source": [
    "target_name = 'global_wind_atlas_capacity_factor'"
   ]
  },
  {
   "cell_type": "code",
   "execution_count": null,
   "metadata": {},
   "outputs": [],
   "source": [
    "arcgis.raster.analytics.copy_raster(source_item, copy_data=True, copy_raster_type='COPY', copy_metadata='COPY', output_name=target_name, context=None, gis=gis, future=False)"
   ]
  }
 ],
 "metadata": {
  "kernelspec": {
   "display_name": "Python 3",
   "language": "python",
   "name": "python3"
  },
  "language_info": {
   "codemirror_mode": {
    "name": "ipython",
    "version": 3
   },
   "file_extension": ".py",
   "mimetype": "text/x-python",
   "name": "python",
   "nbconvert_exporter": "python",
   "pygments_lexer": "ipython3",
   "version": "3.11.10"
  }
 },
 "nbformat": 4,
 "nbformat_minor": 2
}
