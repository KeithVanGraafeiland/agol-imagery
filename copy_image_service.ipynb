{
 "cells": [
  {
   "cell_type": "code",
   "execution_count": 1,
   "metadata": {},
   "outputs": [],
   "source": [
    "import os\n",
    "import arcpy\n",
    "import getpass\n",
    "import arcgis\n",
    "from arcgis.raster import *\n",
    "from arcgis.raster.analytics import *\n",
    "from arcgis.gis import GIS\n",
    "\n",
    "arcgis.env.verbose=True\n",
    "arcgis.env.overwrite = True\n",
    "\n",
    "import urllib3\n",
    "urllib3.disable_warnings() "
   ]
  },
  {
   "cell_type": "code",
   "execution_count": 2,
   "metadata": {},
   "outputs": [],
   "source": [
    " from credentials import username, password, org_url"
   ]
  },
  {
   "cell_type": "code",
   "execution_count": 3,
   "metadata": {},
   "outputs": [
    {
     "name": "stdout",
     "output_type": "stream",
     "text": [
      "ArcGIS Online connection established... \n",
      "CONNECTION DETAILS:\n",
      "Username: esri_environment\n",
      "Org name: Esri\n",
      "Portal Hostname: www.arcgis.com\n",
      "Portal Mode: multitenant\n"
     ]
    }
   ],
   "source": [
    "gis = GIS(org_url, username, password, verify_cert=True)\n",
    "gis\n",
    "print(\"ArcGIS Online connection established... \\nCONNECTION DETAILS:\")\n",
    "print(\"Username: \" + gis.properties.user.username)\n",
    "print(\"Org name: \" + gis.properties.name)\n",
    "print(\"Portal Hostname: \" + gis.properties.portalHostname)\n",
    "print(\"Portal Mode: \" + gis.properties.portalMode)\n",
    "# print(\"Connected to: \" + gis.properties.customBaseUrl)"
   ]
  },
  {
   "cell_type": "code",
   "execution_count": 8,
   "metadata": {},
   "outputs": [
    {
     "data": {
      "text/html": [
       "<div class=\"item_container\" style=\"height: auto; overflow: hidden; border: 1px solid #cfcfcf; border-radius: 2px; background: #f6fafa; line-height: 1.21429em; padding: 10px;\">\n",
       "                    <div class=\"item_left\" style=\"width: 210px; float: left;\">\n",
       "                       <a href='https://esri.maps.arcgis.com/home/item.html?id=5faa0c9437864093ba8acfc1813b77f6' target='_blank'>\n",
       "                        <img src='data:image/png;base64,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' width='200' height='133' class=\"itemThumbnail\">\n",
       "                       </a>\n",
       "                    </div>\n",
       "\n",
       "                    <div class=\"item_right\"     style=\"float: none; width: auto; overflow: hidden;\">\n",
       "                        <a href='https://esri.maps.arcgis.com/home/item.html?id=5faa0c9437864093ba8acfc1813b77f6' target='_blank'><b>gwa_CapacityFactor_azure</b>\n",
       "                        </a>\n",
       "                        <br/>Analysis Image Service generated from CopyRaster<br/><img src='https://esri.maps.arcgis.com/home/js/jsapi/esri/css/images/item_type_icons/tiledimagerylayer16.png' style=\"vertical-align:middle;\" width=16 height=16>Tiled Imagery Layer by esri_environment\n",
       "                        <br/>Last Modified: December 03, 2024\n",
       "                        <br/>0 comments, 12 views\n",
       "                    </div>\n",
       "                </div>\n",
       "                "
      ],
      "text/plain": [
       "<Item title:\"gwa_CapacityFactor_azure\" type:Tiled Imagery Layer owner:esri_environment>"
      ]
     },
     "execution_count": 8,
     "metadata": {},
     "output_type": "execute_result"
    }
   ],
   "source": [
    "## Item to Copy\n",
    "source_ID = '5faa0c9437864093ba8acfc1813b77f6'\n",
    "source_item = gis.content.get(source_ID)\n",
    "source_item"
   ]
  },
  {
   "cell_type": "code",
   "execution_count": 9,
   "metadata": {},
   "outputs": [],
   "source": [
    "target_name = 'global_wind_atlas_capacity_factor'"
   ]
  },
  {
   "cell_type": "code",
   "execution_count": 10,
   "metadata": {},
   "outputs": [
    {
     "name": "stdout",
     "output_type": "stream",
     "text": [
      "Submitted.\n",
      "Executing...\n",
      "Start Time: Friday, December 6, 2024 9:56:06 PM\n",
      "Raster Analytics helper service: https://rasteranalysis.arcgis.com/arcgis\n",
      "Running on ArcGIS Online.\n",
      "Read Data Store info from Registry.\n",
      "Hosted Imagery Privilege Check: OK\n",
      "Output item id is: 20c7a8612df349dd9adb88ad30927904\n",
      "Output image service url is: https://tiledimageservices.arcgis.com/P3ePLMYs2RVChkJx/arcgis/rest/services/global_wind_atlas_capacity_factor/ImageServer\n",
      "Output cloud raster name is: global_wind_atlas_capacity_factor\n",
      "Input is a valid url https://tiledimageservices.arcgis.com/P3ePLMYs2RVChkJx/arcgis/rest/services/gwa_CapacityFactor_azure/ImageServer?token=3NKHt6i2urmWtqOuugvr9XTq8YfBP-57BaEcY1PRAuLla55MqTt8wvQNFal73IvX6wdpJtyBHT5jUMXqWpYIiNPbLcFjulQZvICb291tGRxCDBYjqcR4cd0x-fN3dcuYmcK9gz8QjVygnBsRcxkcei1ZtJh_ncpc7xqU8rBnWpBh4qoeGxGNz6X3B4Dgz_c9kB1v061mYXMqskMuVvmtEdzKTVq8EN_XaxTpKNIibFA.\n",
      "Input raster is: https://tiledimageservices.arcgis.com/P3ePLMYs2RVChkJx/arcgis/rest/services/gwa_CapacityFactor_azure/ImageServer?token=3NKHt6i2urmWtqOuugvr9XTq8YfBP-57BaEcY1PRAuLla55MqTt8wvQNFal73IvX6wdpJtyBHT5jUMXqWpYIiNPbLcFjulQZvICb291tGRxCDBYjqcR4cd0x-fN3dcuYmcK9gz8QjVygnBsRcxkcei1ZtJh_ncpc7xqU8rBnWpBh4qoeGxGNz6X3B4Dgz_c9kB1v061mYXMqskMuVvmtEdzKTVq8EN_XaxTpKNIibFA.\n",
      "Hosted data folder is: /cloudStores/P3ePLMYs2RVChkJx/20c7a8612df349dd9adb88ad30927904\n",
      "Single image: https://tiledimageservices.arcgis.com/P3ePLMYs2RVChkJx/arcgis/rest/services/gwa_CapacityFactor_azure/ImageServer?token=3NKHt6i2urmWtqOuugvr9XTq8YfBP-57BaEcY1PRAuLla55MqTt8wvQNFal73IvX6wdpJtyBHT5jUMXqWpYIiNPbLcFjulQZvICb291tGRxCDBYjqcR4cd0x-fN3dcuYmcK9gz8QjVygnBsRcxkcei1ZtJh_ncpc7xqU8rBnWpBh4qoeGxGNz6X3B4Dgz_c9kB1v061mYXMqskMuVvmtEdzKTVq8EN_XaxTpKNIibFA.\n",
      "Publishing Raster...\n",
      "Getting image service info...\n",
      "Updating image service...\n",
      "Updating service with data store URI.\n",
      "Getting image service info...\n",
      "Updating service: https://tiledimageservices.arcgis.com/P3ePLMYs2RVChkJx/arcgis/rest/admin/services/global_wind_atlas_capacity_factor/ImageServer/edit\n",
      "{'success': True}\n",
      "Portal item refreshed.\n",
      "CopyRaster GP Job: fcdae4855b0045f7a2681b2247d548de finished successfully.\n"
     ]
    },
    {
     "data": {
      "text/html": [
       "<div class=\"item_container\" style=\"height: auto; overflow: hidden; border: 1px solid #cfcfcf; border-radius: 2px; background: #f6fafa; line-height: 1.21429em; padding: 10px;\">\n",
       "                    <div class=\"item_left\" style=\"width: 210px; float: left;\">\n",
       "                       <a href='https://esri.maps.arcgis.com/home/item.html?id=20c7a8612df349dd9adb88ad30927904' target='_blank'>\n",
       "                        <img src='http://static.arcgis.com/images/desktopapp.png' class=\"itemThumbnail\">\n",
       "                       </a>\n",
       "                    </div>\n",
       "\n",
       "                    <div class=\"item_right\"     style=\"float: none; width: auto; overflow: hidden;\">\n",
       "                        <a href='https://esri.maps.arcgis.com/home/item.html?id=20c7a8612df349dd9adb88ad30927904' target='_blank'><b>global_wind_atlas_capacity_factor</b>\n",
       "                        </a>\n",
       "                        <br/>Analysis Image Service generated from CopyRaster<br/><img src='https://esri.maps.arcgis.com/home/js/jsapi/esri/css/images/item_type_icons/tiledimagerylayer16.png' style=\"vertical-align:middle;\" width=16 height=16>Tiled Imagery Layer by esri_environment\n",
       "                        <br/>Last Modified: December 06, 2024\n",
       "                        <br/>0 comments, 3 views\n",
       "                    </div>\n",
       "                </div>\n",
       "                "
      ],
      "text/plain": [
       "<Item title:\"global_wind_atlas_capacity_factor\" type:Tiled Imagery Layer owner:esri_environment>"
      ]
     },
     "execution_count": 10,
     "metadata": {},
     "output_type": "execute_result"
    }
   ],
   "source": [
    "arcgis.raster.analytics.copy_raster(source_item, copy_data=True, copy_raster_type='COPY', copy_metadata='COPY', output_name=target_name, context=None, gis=gis, future=False)"
   ]
  }
 ],
 "metadata": {
  "kernelspec": {
   "display_name": "Python 3",
   "language": "python",
   "name": "python3"
  },
  "language_info": {
   "codemirror_mode": {
    "name": "ipython",
    "version": 3
   },
   "file_extension": ".py",
   "mimetype": "text/x-python",
   "name": "python",
   "nbconvert_exporter": "python",
   "pygments_lexer": "ipython3",
   "version": "3.11.10"
  }
 },
 "nbformat": 4,
 "nbformat_minor": 2
}
