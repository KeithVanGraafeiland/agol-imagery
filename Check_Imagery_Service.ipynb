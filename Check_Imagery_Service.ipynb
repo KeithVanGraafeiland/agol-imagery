{
 "cells": [
  {
   "cell_type": "code",
   "execution_count": null,
   "metadata": {},
   "outputs": [],
   "source": [
    "import arcgis\n",
    "from arcgis import GIS # import the GIS module from the ArcGIS API for Python\n",
    "from credentials import username, password, org_url # import the AGOL username, password, and org_url from the AGOL_Credentials.py file\n",
    "\n",
    "arcgis.env.verbose=True\n",
    "\n",
    "imagery_id = 'd0b6087a2c674fd99857e7101597a2a7'"
   ]
  },
  {
   "cell_type": "code",
   "execution_count": null,
   "metadata": {},
   "outputs": [],
   "source": [
    "# Read the item_ids from the file and store them in a list\n",
    "with open('item_ids.txt', 'r') as file:\n",
    "    item_ids = file.read().splitlines()\n",
    "\n",
    "print(item_ids)"
   ]
  },
  {
   "cell_type": "code",
   "execution_count": null,
   "metadata": {},
   "outputs": [],
   "source": [
    "import arcgis\n",
    "from arcgis import GIS\n",
    "\n",
    "# Connect to ArcGIS Online\n",
    "gis = GIS(org_url, username, password) # log into AGOL\n",
    "\n",
    "# Get the item using the item_id\n",
    "for item_id in item_ids:\n",
    "    # print(f\"Item ID: {item_id}\")\n",
    "    # print(f\"Title: {gis.content.get(item_id).get('title')}\")\n",
    "    imagery_layer = gis.content.get(item_id)\n",
    "    imagery_layer.get_data\n",
    "    imagery_object = imagery_layer.layers[0]\n",
    "    has_multidimensions = imagery_object.properties.get('hasMultidimensions', False)\n",
    "    print(f\"Has multidimensions: {has_multidimensions}\")"
   ]
  },
  {
   "cell_type": "code",
   "execution_count": null,
   "metadata": {},
   "outputs": [],
   "source": [
    "imagery_layer"
   ]
  },
  {
   "cell_type": "code",
   "execution_count": null,
   "metadata": {},
   "outputs": [],
   "source": [
    "imagery_object = imagery_layer.layers[0]\n",
    "print(imagery_object)"
   ]
  },
  {
   "cell_type": "code",
   "execution_count": null,
   "metadata": {},
   "outputs": [],
   "source": [
    "# print(imagery_object.properties)\n",
    "has_multidimensions = imagery_object.properties.get('hasMultidimensions', False)\n",
    "print(f\"Has multidimensions: {has_multidimensions}\")"
   ]
  }
 ],
 "metadata": {
  "kernelspec": {
   "display_name": "Python 3",
   "language": "python",
   "name": "python3"
  },
  "language_info": {
   "codemirror_mode": {
    "name": "ipython",
    "version": 3
   },
   "file_extension": ".py",
   "mimetype": "text/x-python",
   "name": "python",
   "nbconvert_exporter": "python",
   "pygments_lexer": "ipython3",
   "version": "3.11.10"
  }
 },
 "nbformat": 4,
 "nbformat_minor": 2
}
