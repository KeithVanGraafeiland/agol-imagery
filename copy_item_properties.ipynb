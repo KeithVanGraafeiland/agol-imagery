{
 "cells": [
  {
   "cell_type": "code",
   "execution_count": null,
   "metadata": {},
   "outputs": [],
   "source": [
    "import arcgis\n",
    "from arcgis import GIS # import the GIS module from the ArcGIS API for Python\n",
    "from AGOL_Credentials import username, password, org_url # import the AGOL username, password, and org_url from the AGOL_Credentials.py file\n",
    "\n",
    "arcgis.env.verbose=True\n",
    "\n",
    "\n",
    "gis = GIS(org_url, username, password) # log into AGOL\n",
    "source_item_id = '3250df3c648248e1b08fde445233be7f'\n",
    "target_item_id = '08be07c69cd4486995d1dc5d175156e3'\n",
    "\n",
    "# Get the source item\n",
    "source_item = gis.content.get(source_item_id)\n",
    "# Get the target item\n",
    "target_item = gis.content.get(target_item_id)"
   ]
  },
  {
   "cell_type": "code",
   "execution_count": null,
   "metadata": {},
   "outputs": [],
   "source": [
    "# Update the target item with source_item_properties\n",
    "target_item.update({\n",
    "    'title': source_item.title,\n",
    "    'snippet': source_item.snippet,\n",
    "    'description': source_item.description,\n",
    "    'tags': source_item.tags,\n",
    "    'accessInformation': source_item.accessInformation,\n",
    "    'licenseInfo': source_item.licenseInfo,\n",
    "    'extent': source_item.extent,\n",
    "    'sharing.groups': source_item.sharing.groups\n",
    "})\n",
    "print('Updated item properties...')\n",
    "target_item.update_thumbnail(url=source_item.get_thumbnail_link())\n",
    "print('Updated thumbnail...')\n",
    "target_item.update(data=source_item.get_data())\n",
    "print('Updated symbology and pop-ups...')\n",
    "print('Verify updates in the target item: ', target_item.homepage)  \n",
    "target_item"
   ]
  },
  {
   "cell_type": "code",
   "execution_count": null,
   "metadata": {},
   "outputs": [],
   "source": [
    "print(source_item.get_data())"
   ]
  },
  {
   "cell_type": "code",
   "execution_count": null,
   "metadata": {},
   "outputs": [],
   "source": [
    "# # Get the current data of the target item\n",
    "# target_data = target_item.get_data()\n",
    "\n",
    "# # Add the text \"Content Item Link\" to the popupInfo element\n",
    "# if 'popupInfo' in target_data:\n",
    "#     target_data['popupInfo']['popupElements'] += \" Content Item Link\"\n",
    "# else:\n",
    "#     target_data['popupInfo'] = {'popupElements': \"Content Item Link\"}\n",
    "\n",
    "# # Update the target item with the new data\n",
    "# target_item.update(data=target_data)\n",
    "# print('Updated popupInfo with \"Content Item Link\"...')"
   ]
  },
  {
   "cell_type": "code",
   "execution_count": null,
   "metadata": {},
   "outputs": [],
   "source": [
    "print(target_item.get_data())"
   ]
  }
 ],
 "metadata": {
  "kernelspec": {
   "display_name": "Python 3",
   "language": "python",
   "name": "python3"
  },
  "language_info": {
   "codemirror_mode": {
    "name": "ipython",
    "version": 3
   },
   "file_extension": ".py",
   "mimetype": "text/x-python",
   "name": "python",
   "nbconvert_exporter": "python",
   "pygments_lexer": "ipython3",
   "version": "3.11.10"
  }
 },
 "nbformat": 4,
 "nbformat_minor": 2
}
