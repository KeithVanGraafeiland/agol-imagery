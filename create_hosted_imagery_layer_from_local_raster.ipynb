{
 "cells": [
  {
   "cell_type": "markdown",
   "metadata": {},
   "source": [
    "# Create hosted imagery layer from local raster raster (crf)"
   ]
  },
  {
   "cell_type": "markdown",
   "metadata": {},
   "source": [
    "### Docs and resources\n",
    "#### https://developers.arcgis.com/python/latest/api-reference/arcgis.raster.utils.html#arcgis.raster.utils.generate_direct_access_url\n",
    "#### https://developers.arcgis.com/python/latest/api-reference/arcgis.raster.analytics.html#add_image\n",
    "#### https://developers.arcgis.com/python/latest/api-reference/arcgis.raster.analytics.html#copy-raster\n",
    "#### https://developers.arcgis.com/rest/services-reference/enterprise/manage-multidimensional-raster/"
   ]
  },
  {
   "cell_type": "markdown",
   "metadata": {},
   "source": [
    "## Import needed libraries"
   ]
  },
  {
   "cell_type": "code",
   "execution_count": null,
   "metadata": {},
   "outputs": [],
   "source": [
    "import os\n",
    "import arcpy\n",
    "import getpass\n",
    "import arcgis\n",
    "from arcgis.raster import *\n",
    "from arcgis.raster.analytics import *\n",
    "from arcgis.gis import GIS\n",
    "\n",
    "arcgis.env.verbose=True\n",
    "arcgis.env.overwrite = True\n",
    "\n",
    "import urllib3\n",
    "urllib3.disable_warnings() "
   ]
  },
  {
   "cell_type": "markdown",
   "metadata": {},
   "source": [
    "## Provide username and password for publishing account"
   ]
  },
  {
   "cell_type": "code",
   "execution_count": null,
   "metadata": {},
   "outputs": [],
   "source": [
    " from keith_oceans_credentials import username, password, org_url"
   ]
  },
  {
   "cell_type": "markdown",
   "metadata": {},
   "source": [
    "## Connect to ArcGIS Online Account"
   ]
  },
  {
   "cell_type": "code",
   "execution_count": null,
   "metadata": {},
   "outputs": [],
   "source": [
    "gis = GIS(org_url, username, password, verify_cert=True)\n",
    "gis\n",
    "print(\"ArcGIS Online connection established... \\nCONNECTION DETAILS:\")\n",
    "print(\"Username: \" + gis.properties.user.username)\n",
    "print(\"Org name: \" + gis.properties.name)\n",
    "print(\"Portal Hostname: \" + gis.properties.portalHostname)\n",
    "print(\"Portal Mode: \" + gis.properties.portalMode)\n",
    "# print(\"Connected to: \" + gis.properties.customBaseUrl)"
   ]
  },
  {
   "cell_type": "markdown",
   "metadata": {},
   "source": [
    "## Specify the path to the CRF file\n",
    "#### parse out what is needed"
   ]
  },
  {
   "cell_type": "code",
   "execution_count": null,
   "metadata": {},
   "outputs": [],
   "source": [
    "upload_crf = r'E:\\gis_lib\\global_fishing_watch\\v4\\global_fish_watch_annual_fleet_sum_2016.crf'\n",
    "\n",
    "\n",
    "### Extract the crf path, folder name, and the file name\n",
    "\n",
    "crf_path = os.path.dirname(upload_crf)\n",
    "print(crf_path)\n",
    "# folder_name = \"upload_crf.split('\\\\')[-2].replace('.crf','')\"\n",
    "folder_name = \"imagery_upload\"\n",
    "print(folder_name)\n",
    "crf_name = os.path.basename(upload_crf).replace('.crf','')\n",
    "print(crf_name)"
   ]
  },
  {
   "cell_type": "markdown",
   "metadata": {},
   "source": [
    "## generate the direct access url.\n",
    "### this gives us a SAS token from Azure that allows us to decode and extract what is needed to create an ACS (Cloud Storage Connection)\n",
    "### Request direct access URL from ArcGIS Online for the ArcGIS Online user that you are logged in as"
   ]
  },
  {
   "cell_type": "code",
   "execution_count": null,
   "metadata": {},
   "outputs": [],
   "source": [
    "access_url = arcgis.raster.utils.generate_direct_access_url(expiration=1440, gis=gis)\n",
    "access_url"
   ]
  },
  {
   "cell_type": "markdown",
   "metadata": {},
   "source": [
    "## parse what we need from the access_url"
   ]
  },
  {
   "cell_type": "code",
   "execution_count": null,
   "metadata": {},
   "outputs": [],
   "source": [
    "azure_account_name = access_url.split('//')[1].split('.')[0]\n",
    "print(\"Azure account name: \" + azure_account_name)\n",
    "azure_container = access_url.split('?')[0].split('/')[-1]\n",
    "print(\"Azure container name: \" + azure_container)\n",
    "azure_sas_token = access_url.split('?')[1].split('/')[-1]\n",
    "print(\"Azure storage SAS Token: \" + azure_sas_token)\n",
    "azure_cpl_endpoint = access_url.split('/')[0] + \"//\" +  access_url.split('/',3)[-2]\n",
    "print(\"Azure CPL Endpoint: \" + azure_cpl_endpoint)"
   ]
  },
  {
   "cell_type": "markdown",
   "metadata": {},
   "source": [
    "## Create the acs connection file locally"
   ]
  },
  {
   "cell_type": "code",
   "execution_count": null,
   "metadata": {},
   "outputs": [],
   "source": [
    "acs_folder = r'E:\\gis_lib\\00_common\\acs_connections'\n",
    "target_connection_file = \"agol_azure_\" + gis.properties.user.username + \".acs\"\n",
    "acs_full_path = os.path.join(acs_folder, target_connection_file)\n",
    "\n",
    "if os.path.exists(acs_full_path):\n",
    "    os.remove(acs_full_path)\n",
    "\n",
    "account_name = azure_account_name\n",
    "container_name = azure_container\n",
    "config_options = \"AZURE_STORAGE_SAS_TOKEN \" +  azure_sas_token + \";CPL_AZURE_ENDPOINT \" + azure_cpl_endpoint\n",
    "\n",
    "source_connection = arcpy.management.CreateCloudStorageConnectionFile(\n",
    "    out_folder_path=acs_folder, \n",
    "    out_name=target_connection_file,\n",
    "    service_provider=\"AZURE\", \n",
    "    bucket_name=container_name, \n",
    "    access_key_id=account_name,\n",
    "    config_options=config_options)\n",
    "print(\"Connection file created: \" + os.path.join(acs_folder, target_connection_file))"
   ]
  },
  {
   "cell_type": "markdown",
   "metadata": {},
   "source": [
    "## Transfer local files to the Azure Blob Storage"
   ]
  },
  {
   "cell_type": "code",
   "execution_count": null,
   "metadata": {},
   "outputs": [],
   "source": [
    "source = upload_crf\n",
    "target = os.path.join(acs_folder, target_connection_file, folder_name, crf_name) + \".crf\"\n",
    "with arcpy.EnvManager(parallelProcessingFactor=\"90%\"):\n",
    "    arcpy.management.TransferFiles(source, target)\n",
    "    print(target)\n",
    "    print(source)"
   ]
  },
  {
   "cell_type": "markdown",
   "metadata": {},
   "source": [
    "## Direct upload image CRF to a single Tiled Imagery Layer"
   ]
  },
  {
   "cell_type": "code",
   "execution_count": null,
   "metadata": {},
   "outputs": [],
   "source": [
    "# print(copy_raster.__doc__)"
   ]
  },
  {
   "cell_type": "code",
   "execution_count": null,
   "metadata": {},
   "outputs": [],
   "source": [
    "data_url = access_url.split('?')[0] + \"/\" + folder_name + \"/\" + crf_name + \".crf\"\n",
    "print(data_url)\n",
    "\n",
    "layer_name = crf_name\n",
    "\n",
    "ImageryLayer = copy_raster(input_raster=data_url,\n",
    "                           output_name=layer_name,\n",
    "                           context={\"compression\":\"LERC 0\"},\n",
    "                           gis=gis)"
   ]
  },
  {
   "cell_type": "code",
   "execution_count": null,
   "metadata": {},
   "outputs": [],
   "source": [
    "ImageryLayer"
   ]
  },
  {
   "cell_type": "markdown",
   "metadata": {},
   "source": [
    "##Append CRF to hosted tiled imagery layer"
   ]
  },
  {
   "cell_type": "code",
   "execution_count": null,
   "metadata": {},
   "outputs": [],
   "source": [
    "append_crf = r'E:\\gis_lib\\global_fishing_watch\\v4\\global_fish_watch_annual_fleet_sum_2017.crf'\n",
    "target = os.path.join(acs_folder, target_connection_file, folder_name)\n",
    "arcpy.management.TransferFiles(append_crf, target)\n",
    "print(target)\n",
    "print(source)"
   ]
  },
  {
   "cell_type": "code",
   "execution_count": null,
   "metadata": {},
   "outputs": [],
   "source": [
    "append_crf_name = append_crf.split('\\\\')[-1]\n",
    "print(append_crf_name)\n",
    "data_url = access_url.split('?')[0] + \"/\" + folder_name + \"/\" + append_crf_name\n",
    "print(data_url)"
   ]
  },
  {
   "cell_type": "code",
   "execution_count": null,
   "metadata": {},
   "outputs": [],
   "source": [
    "manage_mdim_op = manage_multidimensional_raster(target_multidimensional_raster=Imagery_Layer,\n",
    "                                                manage_mode=\"APPEND_SLICES\",\n",
    "                                                input_multidimensional_raster=[data_url],\n",
    "                                                gis=gis)"
   ]
  }
 ],
 "metadata": {
  "kernelspec": {
   "display_name": "Python 3",
   "language": "python",
   "name": "python3"
  },
  "language_info": {
   "codemirror_mode": {
    "name": "ipython",
    "version": 3
   },
   "file_extension": ".py",
   "mimetype": "text/x-python",
   "name": "python",
   "nbconvert_exporter": "python",
   "pygments_lexer": "ipython3",
   "version": "3.11.10"
  }
 },
 "nbformat": 4,
 "nbformat_minor": 2
}
