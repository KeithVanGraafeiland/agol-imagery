{
 "cells": [
  {
   "cell_type": "code",
   "execution_count": null,
   "metadata": {},
   "outputs": [],
   "source": [
    "## https://developers.arcgis.com/python/latest/api-reference/arcgis.raster.utils.html#arcgis.raster.utils.generate_direct_access_url\n"
   ]
  },
  {
   "cell_type": "code",
   "execution_count": 7,
   "metadata": {},
   "outputs": [],
   "source": [
    "import arcgis\n",
    "from arcgis.raster import *\n",
    "from arcgis.raster.analytics import *\n",
    "from arcgis.gis import GIS\n",
    "\n",
    "arcgis.env.verbose=True"
   ]
  },
  {
   "cell_type": "code",
   "execution_count": 8,
   "metadata": {},
   "outputs": [],
   "source": [
    "# Prompt user to provide username and password\n",
    "import getpass\n",
    "username = getpass.getpass(prompt='Username: ')\n",
    "password = getpass.getpass(prompt='Password: ')"
   ]
  },
  {
   "cell_type": "code",
   "execution_count": 9,
   "metadata": {},
   "outputs": [
    {
     "name": "stderr",
     "output_type": "stream",
     "text": [
      "Setting `verify_cert` to False is a security risk, use at your own risk.\n"
     ]
    },
    {
     "data": {
      "text/html": [
       "GIS @ <a href=\"https://esri.maps.arcgis.com\">https://esri.maps.arcgis.com</a>"
      ],
      "text/plain": [
       "GIS @ https://esri.maps.arcgis.com version:2024.3"
      ]
     },
     "execution_count": 9,
     "metadata": {},
     "output_type": "execute_result"
    }
   ],
   "source": [
    "# Connect to ArcGIS Online\n",
    "gis = GIS(\"https://esri.maps.arcgis.com/\", username, password, verify_cert=False)\n",
    "gis"
   ]
  },
  {
   "cell_type": "code",
   "execution_count": 17,
   "metadata": {},
   "outputs": [
    {
     "name": "stdout",
     "output_type": "stream",
     "text": [
      "E:\\test\\ssp370\n",
      "ssp370 arag_10m_1985\n"
     ]
    }
   ],
   "source": [
    "import os\n",
    "upload_crf = r'E:\\test\\ssp370\\arag_10m_1985.crf'\n",
    "home_path = os.path.dirname(upload_crf)\n",
    "print(home_path)\n",
    "folder_name = upload_crf.split('\\\\')[-2].replace('.crf','')\n",
    "crf_name = upload_crf.split('\\\\')[-1].replace('.crf','')\n",
    "print(folder_name, crf_name)"
   ]
  },
  {
   "cell_type": "code",
   "execution_count": 11,
   "metadata": {},
   "outputs": [
    {
     "data": {
      "text/plain": [
       "'https://stg-arcgisazureimagery.az.arcgis.com/p3eplmys2rvchkjx-8223a93974b7aa6265befa1ca28427d1?sv=2018-03-28&sr=c&sig=%2B7ujUqVLUJ0Mk%2BMlKjmOAM9a4rjYSJZzk2IcXl%2Bmb0I%3D&st=2024-11-19T21%3A33%3A51Z&se=2024-11-20T21%3A38%3A51Z&sp=racwdl'"
      ]
     },
     "execution_count": 11,
     "metadata": {},
     "output_type": "execute_result"
    }
   ],
   "source": [
    "# Request direct access URL from ArcGIS Online org with the current log in ArcGIS Online user\n",
    "\n",
    "from arcgis.raster.utils import *\n",
    "\n",
    "access_url = arcgis.raster.utils.generate_direct_access_url(expiration=1440, gis=gis)\n",
    "access_url"
   ]
  },
  {
   "cell_type": "code",
   "execution_count": 13,
   "metadata": {},
   "outputs": [],
   "source": [
    "import arcpy\n",
    "# Create cloud storage connection file with the information from the direct access URL\n",
    "\n",
    "folder_name = home_path\n",
    "target_connection_file = \"agol_azure.acs\"\n",
    "\n",
    "account_name = \"<account name>\"\n",
    "container_name = \"<org id>-<user id>\"\n",
    "\n",
    "config_options = \"AZURE_STORAGE_SAS_TOKEN <sas token>;CPL_AZURE_ENDPOINT <azure endpoint>\"\n",
    "\n",
    "source_connection = arcpy.management.CreateCloudStorageConnectionFile(\n",
    "    out_folder_path=folder_name, \n",
    "    out_name=target_connection_file,\n",
    "    service_provider=\"AZURE\", \n",
    "    bucket_name=container_name, \n",
    "    access_key_id=account_name,\n",
    "    config_options=config_options)"
   ]
  },
  {
   "cell_type": "code",
   "execution_count": 15,
   "metadata": {},
   "outputs": [
    {
     "data": {
      "text/html": [
       "<div class='gpresult'><h2 class='msg-title'>Messages</h2><div id='messages'>Start Time: Tuesday, November 19, 2024 4:47:19 PM<br>Distributing operation across 18 parallel instances.<br>Succeeded at Tuesday, November 19, 2024 4:47:19 PM (Elapsed Time: 0.21 seconds)<br></div><div id = 'default' /></div></div>"
      ],
      "text/plain": [
       "<Result '\\\\\\\\'>"
      ]
     },
     "execution_count": 15,
     "metadata": {},
     "output_type": "execute_result"
    }
   ],
   "source": [
    "import os\n",
    "\n",
    "folder_name = upload_crf\n",
    "# src_connection_file = \"userstore_azure.acs\"\n",
    "target_connection_file = \"agol_azure.acs\"\n",
    "target_path = \"/_images/\" + folder_name\n",
    "\n",
    "source = upload_crf\n",
    "target = os.path.join(target_connection_file, folder_name)\n",
    "\n",
    "arcpy.management.TransferFiles(source, target)"
   ]
  },
  {
   "cell_type": "code",
   "execution_count": 22,
   "metadata": {},
   "outputs": [
    {
     "name": "stdout",
     "output_type": "stream",
     "text": [
      "E:\\test\\ssp370\\arag_10m_1985.crf\n",
      "E:\\test\\ssp370\\arag_10m_1985.crf\n"
     ]
    }
   ],
   "source": [
    "print(target)\n",
    "print(source)"
   ]
  },
  {
   "cell_type": "code",
   "execution_count": 20,
   "metadata": {},
   "outputs": [
    {
     "name": "stdout",
     "output_type": "stream",
     "text": [
      "https://stg-arcgisazureimagery.az.arcgis.com/p3eplmys2rvchkjx-8223a93974b7aa6265befa1ca28427d1\\arag_10m_1985\n"
     ]
    },
    {
     "ename": "RuntimeError",
     "evalue": "An Image Service by this name already exists: arag_10m_1985",
     "output_type": "error",
     "traceback": [
      "\u001b[1;31m---------------------------------------------------------------------------\u001b[0m",
      "\u001b[1;31mRuntimeError\u001b[0m                              Traceback (most recent call last)",
      "\u001b[1;32m~\\AppData\\Local\\Temp\\1\\ipykernel_2420\\898792658.py\u001b[0m in \u001b[0;36m?\u001b[1;34m()\u001b[0m\n\u001b[0;32m      5\u001b[0m \u001b[0mprint\u001b[0m\u001b[1;33m(\u001b[0m\u001b[0mdata_url\u001b[0m\u001b[1;33m)\u001b[0m\u001b[1;33m\u001b[0m\u001b[1;33m\u001b[0m\u001b[0m\n\u001b[0;32m      6\u001b[0m \u001b[1;33m\u001b[0m\u001b[0m\n\u001b[0;32m      7\u001b[0m \u001b[0mlayer_name\u001b[0m \u001b[1;33m=\u001b[0m \u001b[0mcrf_name\u001b[0m\u001b[1;33m\u001b[0m\u001b[1;33m\u001b[0m\u001b[0m\n\u001b[0;32m      8\u001b[0m \u001b[1;33m\u001b[0m\u001b[0m\n\u001b[1;32m----> 9\u001b[1;33m ImageryLayer = copy_raster(input_raster=data_url,\n\u001b[0m\u001b[0;32m     10\u001b[0m                            \u001b[0moutput_name\u001b[0m\u001b[1;33m=\u001b[0m\u001b[0mlayer_name\u001b[0m\u001b[1;33m,\u001b[0m\u001b[1;33m\u001b[0m\u001b[1;33m\u001b[0m\u001b[0m\n\u001b[0;32m     11\u001b[0m                            \u001b[0mraster_type_name\u001b[0m\u001b[1;33m=\u001b[0m\u001b[1;34m\"Raster Dataset\"\u001b[0m\u001b[1;33m,\u001b[0m\u001b[1;33m\u001b[0m\u001b[1;33m\u001b[0m\u001b[0m\n\u001b[0;32m     12\u001b[0m                            \u001b[0mtiles_only\u001b[0m\u001b[1;33m=\u001b[0m\u001b[1;32mTrue\u001b[0m\u001b[1;33m,\u001b[0m\u001b[1;33m\u001b[0m\u001b[1;33m\u001b[0m\u001b[0m\n",
      "\u001b[1;32mc:\\Users\\keit8223\\AppData\\Local\\ESRI\\conda\\envs\\arcgispro-py3-clone\\Lib\\site-packages\\arcgis\\raster\\analytics.py\u001b[0m in \u001b[0;36m?\u001b[1;34m(input_raster, output_cellsize, resampling_method, clip_setting, output_name, process_as_multidimensional, build_transpose, context, raster_type_name, raster_type_params, source_mosaic_dataset, gis, future, **kwargs)\u001b[0m\n\u001b[0;32m   1665\u001b[0m         \u001b[0mcontext\u001b[0m\u001b[1;33m.\u001b[0m\u001b[0mupdate\u001b[0m\u001b[1;33m(\u001b[0m\u001b[1;33m{\u001b[0m\u001b[1;34m\"processAsMultidimensional\"\u001b[0m\u001b[1;33m:\u001b[0m \u001b[0mprocess_as_multidimensional\u001b[0m\u001b[1;33m}\u001b[0m\u001b[1;33m)\u001b[0m\u001b[1;33m\u001b[0m\u001b[1;33m\u001b[0m\u001b[0m\n\u001b[0;32m   1666\u001b[0m     \u001b[1;32mif\u001b[0m \u001b[0mbuild_transpose\u001b[0m \u001b[1;32mis\u001b[0m \u001b[1;32mnot\u001b[0m \u001b[1;32mNone\u001b[0m\u001b[1;33m:\u001b[0m\u001b[1;33m\u001b[0m\u001b[1;33m\u001b[0m\u001b[0m\n\u001b[0;32m   1667\u001b[0m         \u001b[0mcontext\u001b[0m\u001b[1;33m.\u001b[0m\u001b[0mupdate\u001b[0m\u001b[1;33m(\u001b[0m\u001b[1;33m{\u001b[0m\u001b[1;34m\"buildTranspose\"\u001b[0m\u001b[1;33m:\u001b[0m \u001b[0mbuild_transpose\u001b[0m\u001b[1;33m}\u001b[0m\u001b[1;33m)\u001b[0m\u001b[1;33m\u001b[0m\u001b[1;33m\u001b[0m\u001b[0m\n\u001b[0;32m   1668\u001b[0m \u001b[1;33m\u001b[0m\u001b[0m\n\u001b[1;32m-> 1669\u001b[1;33m     return gis._tools.rasteranalysis.copy_raster(\n\u001b[0m\u001b[0;32m   1670\u001b[0m         \u001b[0minput_raster\u001b[0m\u001b[1;33m=\u001b[0m\u001b[0minput_raster\u001b[0m\u001b[1;33m,\u001b[0m\u001b[1;33m\u001b[0m\u001b[1;33m\u001b[0m\u001b[0m\n\u001b[0;32m   1671\u001b[0m         \u001b[0moutput_cellsize\u001b[0m\u001b[1;33m=\u001b[0m\u001b[0moutput_cellsize\u001b[0m\u001b[1;33m,\u001b[0m\u001b[1;33m\u001b[0m\u001b[1;33m\u001b[0m\u001b[0m\n\u001b[0;32m   1672\u001b[0m         \u001b[0mresampling_method\u001b[0m\u001b[1;33m=\u001b[0m\u001b[0mresampling_method\u001b[0m\u001b[1;33m,\u001b[0m\u001b[1;33m\u001b[0m\u001b[1;33m\u001b[0m\u001b[0m\n",
      "\u001b[1;32mc:\\Users\\keit8223\\AppData\\Local\\ESRI\\conda\\envs\\arcgispro-py3-clone\\Lib\\site-packages\\arcgis\\_impl\\tools.py\u001b[0m in \u001b[0;36m?\u001b[1;34m(self, input_raster, output_cellsize, resampling_method, clip_setting, output_name, context, future, raster_type_name, raster_type_params, md_to_upload, estimate, **kwargs)\u001b[0m\n\u001b[0;32m  14330\u001b[0m         \u001b[0m_set_raster_context\u001b[0m\u001b[1;33m(\u001b[0m\u001b[0mcontext_param\u001b[0m\u001b[1;33m,\u001b[0m \u001b[0mcontext\u001b[0m\u001b[1;33m)\u001b[0m\u001b[1;33m\u001b[0m\u001b[1;33m\u001b[0m\u001b[0m\n\u001b[0;32m  14331\u001b[0m         \u001b[1;32mif\u001b[0m \u001b[1;34m\"context\"\u001b[0m \u001b[1;32min\u001b[0m \u001b[0mcontext_param\u001b[0m\u001b[1;33m.\u001b[0m\u001b[0mkeys\u001b[0m\u001b[1;33m(\u001b[0m\u001b[1;33m)\u001b[0m\u001b[1;33m:\u001b[0m\u001b[1;33m\u001b[0m\u001b[1;33m\u001b[0m\u001b[0m\n\u001b[0;32m  14332\u001b[0m             \u001b[0mcontext\u001b[0m \u001b[1;33m=\u001b[0m \u001b[0mcontext_param\u001b[0m\u001b[1;33m[\u001b[0m\u001b[1;34m\"context\"\u001b[0m\u001b[1;33m]\u001b[0m\u001b[1;33m\u001b[0m\u001b[1;33m\u001b[0m\u001b[0m\n\u001b[0;32m  14333\u001b[0m \u001b[1;33m\u001b[0m\u001b[0m\n\u001b[1;32m> 14334\u001b[1;33m         output_raster, output_service = self._set_output_raster(\n\u001b[0m\u001b[0;32m  14335\u001b[0m             \u001b[0moutput_name\u001b[0m\u001b[1;33m=\u001b[0m\u001b[0moutput_name\u001b[0m\u001b[1;33m,\u001b[0m\u001b[1;33m\u001b[0m\u001b[1;33m\u001b[0m\u001b[0m\n\u001b[0;32m  14336\u001b[0m             \u001b[0mtask\u001b[0m\u001b[1;33m=\u001b[0m\u001b[0mtask\u001b[0m\u001b[1;33m,\u001b[0m\u001b[1;33m\u001b[0m\u001b[1;33m\u001b[0m\u001b[0m\n\u001b[0;32m  14337\u001b[0m             \u001b[0moutput_properties\u001b[0m\u001b[1;33m=\u001b[0m\u001b[0mkwargs\u001b[0m\u001b[1;33m,\u001b[0m\u001b[1;33m\u001b[0m\u001b[1;33m\u001b[0m\u001b[0m\n",
      "\u001b[1;32mc:\\Users\\keit8223\\AppData\\Local\\ESRI\\conda\\envs\\arcgispro-py3-clone\\Lib\\site-packages\\arcgis\\_impl\\tools.py\u001b[0m in \u001b[0;36m?\u001b[1;34m(self, output_name, task, output_properties, estimate)\u001b[0m\n\u001b[0;32m   9971\u001b[0m                 },\n\u001b[0;32m   9972\u001b[0m                 \u001b[1;34m\"itemProperties\"\u001b[0m\u001b[1;33m:\u001b[0m \u001b[1;33m{\u001b[0m\u001b[1;34m\"itemId\"\u001b[0m\u001b[1;33m:\u001b[0m \u001b[0moutput_service\u001b[0m\u001b[1;33m.\u001b[0m\u001b[0mitemid\u001b[0m\u001b[1;33m}\u001b[0m\u001b[1;33m,\u001b[0m\u001b[1;33m\u001b[0m\u001b[1;33m\u001b[0m\u001b[0m\n\u001b[0;32m   9973\u001b[0m             }\n\u001b[0;32m   9974\u001b[0m         \u001b[1;32melif\u001b[0m \u001b[0misinstance\u001b[0m\u001b[1;33m(\u001b[0m\u001b[0moutput_name\u001b[0m\u001b[1;33m,\u001b[0m \u001b[0mstr\u001b[0m\u001b[1;33m)\u001b[0m\u001b[1;33m:\u001b[0m\u001b[1;33m\u001b[0m\u001b[1;33m\u001b[0m\u001b[0m\n\u001b[1;32m-> 9975\u001b[1;33m             output_service = self._create_output_image_service(\n\u001b[0m\u001b[0;32m   9976\u001b[0m                 \u001b[0moutput_name\u001b[0m\u001b[1;33m,\u001b[0m\u001b[1;33m\u001b[0m\u001b[1;33m\u001b[0m\u001b[0m\n\u001b[0;32m   9977\u001b[0m                 \u001b[0mtask\u001b[0m\u001b[1;33m,\u001b[0m\u001b[1;33m\u001b[0m\u001b[1;33m\u001b[0m\u001b[0m\n\u001b[0;32m   9978\u001b[0m                 \u001b[0mfolder\u001b[0m\u001b[1;33m=\u001b[0m\u001b[0mfolder\u001b[0m\u001b[1;33m,\u001b[0m\u001b[1;33m\u001b[0m\u001b[1;33m\u001b[0m\u001b[0m\n",
      "\u001b[1;32mc:\\Users\\keit8223\\AppData\\Local\\ESRI\\conda\\envs\\arcgispro-py3-clone\\Lib\\site-packages\\arcgis\\_impl\\tools.py\u001b[0m in \u001b[0;36m?\u001b[1;34m(self, output_name, task, folder, output_properties)\u001b[0m\n\u001b[0;32m  10087\u001b[0m         ok = gis.content.is_service_name_available(\n\u001b[0;32m  10088\u001b[0m             \u001b[0moutput_name\u001b[0m\u001b[1;33m.\u001b[0m\u001b[0mreplace\u001b[0m\u001b[1;33m(\u001b[0m\u001b[1;34m\" \"\u001b[0m\u001b[1;33m,\u001b[0m \u001b[1;34m\"_\"\u001b[0m\u001b[1;33m)\u001b[0m\u001b[1;33m,\u001b[0m \u001b[1;34m\"Image Service\"\u001b[0m\u001b[1;33m\u001b[0m\u001b[1;33m\u001b[0m\u001b[0m\n\u001b[0;32m  10089\u001b[0m         )\n\u001b[0;32m  10090\u001b[0m         \u001b[1;32mif\u001b[0m \u001b[1;32mnot\u001b[0m \u001b[0mok\u001b[0m\u001b[1;33m:\u001b[0m\u001b[1;33m\u001b[0m\u001b[1;33m\u001b[0m\u001b[0m\n\u001b[1;32m> 10091\u001b[1;33m             raise RuntimeError(\n\u001b[0m\u001b[0;32m  10092\u001b[0m                 \u001b[1;34m\"An Image Service by this name already exists: \"\u001b[0m \u001b[1;33m+\u001b[0m \u001b[0moutput_name\u001b[0m\u001b[1;33m\u001b[0m\u001b[1;33m\u001b[0m\u001b[0m\n\u001b[0;32m  10093\u001b[0m             )\n\u001b[0;32m  10094\u001b[0m \u001b[1;33m\u001b[0m\u001b[0m\n",
      "\u001b[1;31mRuntimeError\u001b[0m: An Image Service by this name already exists: arag_10m_1985"
     ]
    }
   ],
   "source": [
    "# The following code snippet will convert the uploaded images to a single Tiled Imagery Layer\n",
    "# by mosaicking multiple images\n",
    "\n",
    "data_url = access_url.split('?')[0] + \"\\\\\" + crf_name\n",
    "print(data_url)\n",
    "\n",
    "layer_name = crf_name\n",
    "\n",
    "ImageryLayer = copy_raster(input_raster=data_url,\n",
    "                           output_name=layer_name,\n",
    "                           raster_type_name=\"Raster Dataset\",\n",
    "                           tiles_only=True,\n",
    "                           gis=gis)"
   ]
  }
 ],
 "metadata": {
  "kernelspec": {
   "display_name": "Python 3",
   "language": "python",
   "name": "python3"
  },
  "language_info": {
   "codemirror_mode": {
    "name": "ipython",
    "version": 3
   },
   "file_extension": ".py",
   "mimetype": "text/x-python",
   "name": "python",
   "nbconvert_exporter": "python",
   "pygments_lexer": "ipython3",
   "version": "3.11.10"
  }
 },
 "nbformat": 4,
 "nbformat_minor": 2
}
