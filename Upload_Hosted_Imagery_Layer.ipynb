{
 "cells": [
  {
   "attachments": {},
   "cell_type": "markdown",
   "id": "55293360",
   "metadata": {},
   "source": [
    "## Utilize API to create \"Hosted Tiled Imagery Layer\" from local CRF"
   ]
  },
  {
   "cell_type": "code",
   "execution_count": 1,
   "id": "40012762",
   "metadata": {},
   "outputs": [],
   "source": [
    "import arcgis\n",
    "from arcgis.raster import *\n",
    "from arcgis.raster.analytics import *\n",
    "from arcgis.gis import GIS\n",
    "\n",
    "arcgis.env.verbose=True"
   ]
  },
  {
   "cell_type": "code",
   "execution_count": 2,
   "id": "89c3ad98",
   "metadata": {},
   "outputs": [],
   "source": [
    "# Prompt user to provide username and password\n",
    "import getpass\n",
    "username = getpass.getpass(prompt='Username: ')\n",
    "password = getpass.getpass(prompt='Password: ')"
   ]
  },
  {
   "cell_type": "code",
   "execution_count": 6,
   "id": "03f4df91",
   "metadata": {},
   "outputs": [
    {
     "data": {
      "text/html": [
       "GIS @ <a href=\"https://esri.maps.arcgis.com\">https://esri.maps.arcgis.com</a>"
      ],
      "text/plain": [
       "GIS @ https://esri.maps.arcgis.com version:2024.3"
      ]
     },
     "execution_count": 6,
     "metadata": {},
     "output_type": "execute_result"
    }
   ],
   "source": [
    "# Connect to ArcGIS Online\n",
    "gis = GIS(\"https://esri.maps.arcgis.com/\", username, password, verify_cert=True)\n",
    "gis"
   ]
  },
  {
   "cell_type": "code",
   "execution_count": 7,
   "id": "85b9d302",
   "metadata": {},
   "outputs": [
    {
     "name": "stdout",
     "output_type": "stream",
     "text": [
      "Start Time: Wednesday, November 20, 2024 9:01:57 PM\n",
      "Hosted Imagery Privilege Check: OK\n",
      "Output item id is: 12a96b6582324bfb83789bb0f9ab4699\n",
      "Output image service url is: https://tiledimageservices.arcgis.com/P3ePLMYs2RVChkJx/arcgis/rest/services/global_fishing_watch_annual_fleet_sum_tiles_v2/ImageServer\n",
      "Output cloud raster name is: global_fishing_watch_annual_fleet_sum_tiles_v2\n",
      "Input raster is: E:\\gis_lib\\global_fishing_watch\\v4\\global_fishing_watch_annual_fleet_sum_2020.crf\n",
      "Hosted data folder is: /cloudStores/P3ePLMYs2RVChkJx/12a96b6582324bfb83789bb0f9ab4699\n",
      "Single image: E:\\gis_lib\\global_fishing_watch\\v4\\global_fishing_watch_annual_fleet_sum_2020.crf\n",
      "Succeeded at Wednesday, November 20, 2024 9:01:58 PM (Elapsed Time: 1.20 seconds)\n",
      "CopyRaster GP Job: 5c713ea2368942d3b63ac221ab52787f finished successfully.\n"
     ]
    },
    {
     "data": {
      "text/plain": [
       "''"
      ]
     },
     "execution_count": 7,
     "metadata": {},
     "output_type": "execute_result"
    }
   ],
   "source": [
    "#Creating a tile imagery layer from CRF\n",
    "## Aparently there is an issue with the copy_raster function, it is not working as expected\n",
    "## it attempts to build a mosaic dataset first instead of a just publishing a tile imagery layer from the CRF\n",
    "NAME = 'global_fishing_watch_annual_fleet_sum_tiles_v2'\n",
    "ImgFolder = r\"E:\\gis_lib\\global_fishing_watch\\v4\\global_fishing_watch_annual_fleet_sum_2020.crf\"\n",
    "copy_raster(input_raster=ImgFolder,output_name=NAME,tiles_only=True, gis=gis)"
   ]
  }
 ],
 "metadata": {
  "kernelspec": {
   "display_name": "Python 3",
   "language": "python",
   "name": "python3"
  },
  "language_info": {
   "codemirror_mode": {
    "name": "ipython",
    "version": 3
   },
   "file_extension": ".py",
   "mimetype": "text/x-python",
   "name": "python",
   "nbconvert_exporter": "python",
   "pygments_lexer": "ipython3",
   "version": "3.11.10"
  }
 },
 "nbformat": 4,
 "nbformat_minor": 5
}
